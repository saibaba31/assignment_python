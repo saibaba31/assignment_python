{
 "cells": [
  {
   "cell_type": "code",
   "execution_count": 1,
   "metadata": {},
   "outputs": [
    {
     "data": {
      "text/plain": [
       "'viRu'"
      ]
     },
     "execution_count": 1,
     "metadata": {},
     "output_type": "execute_result"
    }
   ],
   "source": [
    "i=\"SindhuRiver\"\n",
    "i[-3:-7:-1]"
   ]
  },
  {
   "cell_type": "code",
   "execution_count": 8,
   "metadata": {},
   "outputs": [
    {
     "name": "stdout",
     "output_type": "stream",
     "text": [
      "the number which divided by 7 and not multiples of 5 are \n",
      "2002,2009,2016,2023,2037,2044,2051,2058,2072,2079,2086,2093,2107,2114,2121,2128,2142,2149,2156,2163,2177,2184,2191,2198,2212,2219,2226,2233,2247,2254,2261,2268,2282,2289,2296,2303,2317,2324,2331,2338,2352,2359,2366,2373,2387,2394,2401,2408,2422,2429,2436,2443,2457,2464,2471,2478,2492,2499,2506,2513,2527,2534,2541,2548,2562,2569,2576,2583,2597,2604,2611,2618,2632,2639,2646,2653,2667,2674,2681,2688,2702,2709,2716,2723,2737,2744,2751,2758,2772,2779,2786,2793,2807,2814,2821,2828,2842,2849,2856,2863,2877,2884,2891,2898,2912,2919,2926,2933,2947,2954,2961,2968,2982,2989,2996,3003,3017,3024,3031,3038,3052,3059,3066,3073,3087,3094,3101,3108,3122,3129,3136,3143,3157,3164,3171,3178,3192,3199,"
     ]
    }
   ],
   "source": [
    "i=2000\n",
    "j=3200\n",
    "print(\"the number which divided by 7 and not multiples of 5 are \")\n",
    "for k in range(i,j+1):\n",
    "    if k % 5 != 0:\n",
    "        if k % 7 ==0:\n",
    "            print(k,end=',')\n",
    "        "
   ]
  },
  {
   "cell_type": "code",
   "execution_count": 9,
   "metadata": {},
   "outputs": [
    {
     "name": "stdout",
     "output_type": "stream",
     "text": [
      "enter first name sudh\n",
      "enter last name kumar\n",
      "kumar sudh\n"
     ]
    }
   ],
   "source": [
    "i=input(\"enter first name \")\n",
    "j=input(\"enter last name \")\n",
    "print(j + \" \" +i)\n"
   ]
  },
  {
   "cell_type": "code",
   "execution_count": 16,
   "metadata": {},
   "outputs": [
    {
     "name": "stdout",
     "output_type": "stream",
     "text": [
      "39\n",
      "7234.5599999999995\n"
     ]
    }
   ],
   "source": [
    "# first attempt \n",
    "r=12\n",
    "vol = (4//3) * (22//7) * (r)^3\n",
    "print(vol)\n",
    "\n",
    "#2nd attempt\n",
    "\n",
    "pi=3.14\n",
    "volume= (4/3) * pi * (r*r*r)\n",
    "print(volume)\n",
    "\n"
   ]
  },
  {
   "cell_type": "code",
   "execution_count": 5,
   "metadata": {},
   "outputs": [
    {
     "name": "stdout",
     "output_type": "stream",
     "text": [
      "enter how many numbers in list 5\n",
      "enter 1 number : 9\n",
      "enter 2 number : 7\n",
      "enter 3 number : 8\n",
      "enter 4 number : 6\n",
      "enter 5 number : 6\n"
     ]
    },
    {
     "data": {
      "text/plain": [
       "[9, 7, 8, 6, 6]"
      ]
     },
     "execution_count": 5,
     "metadata": {},
     "output_type": "execute_result"
    }
   ],
   "source": [
    "n=int(input(\"enter how many numbers in list \"))\n",
    "lis=[]\n",
    "for i in range(n):\n",
    "    i = int(input(\"enter \" + str(i+1) + \" number : \"))\n",
    "    lis.append(i)\n",
    "lis\n",
    "        "
   ]
  },
  {
   "cell_type": "code",
   "execution_count": 17,
   "metadata": {},
   "outputs": [
    {
     "name": "stdout",
     "output_type": "stream",
     "text": [
      "enter no.of rows 5\n",
      " enter no.of columns 5\n",
      "* \n",
      "* * \n",
      "* * * \n",
      "* * * * \n",
      "* * * * * \n",
      "* * * * \n",
      "* * * \n",
      "* * \n",
      "* \n"
     ]
    }
   ],
   "source": [
    "i=int(input(\"enter no.of rows \"))\n",
    "j=int(input(\" enter no.of columns \"))\n",
    "for i in range(j):\n",
    "    for j in range(i+1):\n",
    "        print(\"*\",end = ' ')\n",
    "    print()\n",
    "for i in range(j,0,-1):\n",
    "    for j in range(i,0,-1):\n",
    "        print(\"*\", end= ' ')\n",
    "    print()\n"
   ]
  },
  {
   "cell_type": "code",
   "execution_count": 19,
   "metadata": {},
   "outputs": [
    {
     "name": "stdout",
     "output_type": "stream",
     "text": [
      "enter a word AcadGild\n"
     ]
    },
    {
     "data": {
      "text/plain": [
       "'dliGdacA'"
      ]
     },
     "execution_count": 19,
     "metadata": {},
     "output_type": "execute_result"
    }
   ],
   "source": [
    "st=input(\"enter a word \")\n",
    "p=st[::-1]\n",
    "p"
   ]
  },
  {
   "cell_type": "code",
   "execution_count": 30,
   "metadata": {},
   "outputs": [
    {
     "ename": "SyntaxError",
     "evalue": "invalid syntax (<ipython-input-30-e294b38ead23>, line 1)",
     "output_type": "error",
     "traceback": [
      "\u001b[1;36m  File \u001b[1;32m\"<ipython-input-30-e294b38ead23>\"\u001b[1;36m, line \u001b[1;32m1\u001b[0m\n\u001b[1;33m    para=\"WE, THE PEOPLE OF INDIA, \" + print() +\" having solemnly resolved to constitute India into a SOVEREIGN,\" + '!' +\u001b[0m\n\u001b[1;37m                                                                                                                          ^\u001b[0m\n\u001b[1;31mSyntaxError\u001b[0m\u001b[1;31m:\u001b[0m invalid syntax\n"
     ]
    }
   ],
   "source": [
    "para=\"WE, THE PEOPLE OF INDIA, \" + print() +\" having solemnly resolved to constitute India into a SOVEREIGN,\" + '!' + \n",
    "        print() + \"SOCIALIST, SECULAR, DEMOCRATIC REPUBLIC \" + print() + \"and to secure to all its citizens  \"\n",
    "para"
   ]
  },
  {
   "cell_type": "code",
   "execution_count": 53,
   "metadata": {},
   "outputs": [
    {
     "name": "stdout",
     "output_type": "stream",
     "text": [
      "WE, THE PEOPLE OF INDIA,\n",
      "        having solemnly resolved to constitute India into a SOVEREIGN,! \n",
      "               SOCIALIST, SECULAR, DEMOCRATIC REPUBLIC \n",
      "                and to secure to all its citizens\n",
      "WE, THE PEOPLE OF INDIA,\n",
      "\thaving solemnly resolved to constitute India into a SOVEREIGN,!\n",
      "\t\tSOCIALIST, SECULAR, DEMOCRATIC REPUBLIC \n",
      "\t\t and to secure to all its citizens\n"
     ]
    }
   ],
   "source": [
    "para='''WE, THE PEOPLE OF INDIA,\n",
    "        having solemnly resolved to constitute India into a SOVEREIGN,! \n",
    "               SOCIALIST, SECULAR, DEMOCRATIC REPUBLIC \n",
    "                and to secure to all its citizens'''\n",
    "print(para)\n",
    "\n",
    "#2nd method using \\n\\t\n",
    "para='''WE, THE PEOPLE OF INDIA,\\n\\thaving solemnly resolved to constitute India into a SOVEREIGN,!\n",
    "\\t\\tSOCIALIST, SECULAR, DEMOCRATIC REPUBLIC \\n\\t\\t and to secure to all its citizens'''\n",
    "print(para)\n"
   ]
  },
  {
   "cell_type": "code",
   "execution_count": 40,
   "metadata": {},
   "outputs": [
    {
     "name": "stdout",
     "output_type": "stream",
     "text": [
      "N/A\n"
     ]
    }
   ],
   "source": [
    "print(\"N/A\")"
   ]
  },
  {
   "cell_type": "code",
   "execution_count": null,
   "metadata": {},
   "outputs": [],
   "source": []
  }
 ],
 "metadata": {
  "kernelspec": {
   "display_name": "Python 3",
   "language": "python",
   "name": "python3"
  },
  "language_info": {
   "codemirror_mode": {
    "name": "ipython",
    "version": 3
   },
   "file_extension": ".py",
   "mimetype": "text/x-python",
   "name": "python",
   "nbconvert_exporter": "python",
   "pygments_lexer": "ipython3",
   "version": "3.7.6"
  }
 },
 "nbformat": 4,
 "nbformat_minor": 4
}
